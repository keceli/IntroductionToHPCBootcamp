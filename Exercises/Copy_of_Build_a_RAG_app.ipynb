{
  "cells": [
    {
      "cell_type": "markdown",
      "id": "5630b0ca",
      "metadata": {
        "id": "5630b0ca"
      },
      "source": [
        "The purpose of this Notebook is to illustrate a simple workflow for testing and evaluating LLM applications. We will also learn how to evalaute a RAG system using ragas. The evaluation framework uses the [ragas](https://docs.ragas.io/en/latest/) libary.\n",
        "\n",
        "**NOTE:** *The content in this notebook are mostly from the Ragas documentation and tutorial guide.*"
      ]
    },
    {
      "cell_type": "markdown",
      "source": [
        "### **Installation**\n",
        "To get started, install Ragas and chat model(s) using pip with the following command:"
      ],
      "metadata": {
        "id": "-VuvQI7uZ9lE"
      },
      "id": "-VuvQI7uZ9lE"
    },
    {
      "cell_type": "code",
      "source": [
        "%pip --quiet install ragas\n",
        "%pip install --quiet langchain-google-genai\n",
        "%pip install --quiet sacrebleu\n",
        "%pip install --quiet --upgrade langchain-openai"
      ],
      "metadata": {
        "id": "CEMY3OIcaCnX"
      },
      "id": "CEMY3OIcaCnX",
      "execution_count": null,
      "outputs": []
    },
    {
      "cell_type": "markdown",
      "source": [
        "### **1. Evaluate Direct LLM**\n",
        "\n",
        "In the example below:\n",
        "\n",
        "\n",
        "\n",
        "*   A test sample containing user_input, response (the output from the LLM), and reference (the expected output from the LLM) as data points to evaluate the summary.\n",
        "*   The **BleuScore** metric is used to evaluate the quality of response by comparing it with reference. It measures the similarity between the response and the reference based on n-gram precision and brevity penalty. BLEU score ranges from 0 to 1, where 1 indicates a perfect match between the response and the reference.\n",
        "\n",
        "\n",
        "---\n",
        "\n",
        "\n",
        "**Limitations with BlueScore**\n",
        "\n",
        "\n",
        "\n",
        "*   Time-Consuming Preparation: Evaluating the application requires preparing the expected output (reference) for each input, which can be both time-consuming and challenging.\n",
        "*   Inaccurate Scoring: Even though the response and reference are similar, the output score was low."
      ],
      "metadata": {
        "id": "4B_gKXyLaFxv"
      },
      "id": "4B_gKXyLaFxv"
    },
    {
      "cell_type": "code",
      "source": [
        "import getpass\n",
        "import os\n",
        "import bs4\n",
        "from langchain_google_genai import ChatGoogleGenerativeAI\n",
        "from langchain_openai import ChatOpenAI\n",
        "from langchain_google_genai import GoogleGenerativeAIEmbeddings\n",
        "from langchain_openai import OpenAIEmbeddings\n",
        "from langchain_community.document_loaders import WebBaseLoader\n",
        "from langchain_core.documents import Document\n",
        "from langchain_text_splitters import RecursiveCharacterTextSplitter\n",
        "from langchain_core.messages import HumanMessage, SystemMessage, AIMessage"
      ],
      "metadata": {
        "id": "G6x-gnbKaI9j"
      },
      "id": "G6x-gnbKaI9j",
      "execution_count": null,
      "outputs": []
    },
    {
      "cell_type": "code",
      "source": [
        "# os.environ[\"OPENAI_API_KEY\"] = getpass.getpass(\"Enter API key for OpenAI: \")\n",
        "# os.environ[\"GOOGLE_API_KEY\"] = getpass.getpass(\"Enter API key for Google Gemini: \")\n",
        "from google.colab import userdata\n",
        "os.environ[\"OPENAI_API_KEY\"] = userdata.get('OPENAI_API_KEY')\n",
        "# os.environ[\"GOOGLE_API_KEY\"] = userdata.get('GOOGLE_API_KEY')"
      ],
      "metadata": {
        "id": "ReQR_JlMaKmT"
      },
      "id": "ReQR_JlMaKmT",
      "execution_count": null,
      "outputs": []
    },
    {
      "cell_type": "code",
      "source": [
        "user_input = \"What is HPC?\"   # type in your input, e.g., a question\n",
        "reference = \"HPC (High-Performance Computing) is a technology that utilizes clusters of powerful processors working in parallel to process massive, multidimensional data sets and solve complex problems at extremely high speeds. HPC systems typically run more than one million times faster than the fastest commodity desktop, laptop, or server systems. It employs massively parallel computing, using tens of thousands to millions of processors or processor cores. HPC clusters consist of multiple high-speed computer servers networked with a centralized scheduler to manage the parallel computing workload. These computers, called nodes, often use high-performance multi-core CPUs or GPUs. All other computing resources within an HPC cluster, such as networking, memory, storage, and file systems, are also high-speed, high-throughput, and low-latency components.\"    # this is the ground-truth answer\n",
        "\n",
        "# Create an LLM model e.g., OpenAI GPT-4o or Google Gemini-2.5\n",
        "llm = ChatOpenAI(model=\"gpt-4o\")\n",
        "# llm = ChatGoogleGenerativeAI(model=\"gemini-2.5-flash\")\n",
        "\n",
        "result = llm.invoke(user_input)\n",
        "response = result.content\n",
        "\n",
        "print(f\"User Input: {user_input}\")\n",
        "print(f\"Reference: {reference}\")\n",
        "print(f\"LLM Response: {response}\")"
      ],
      "metadata": {
        "id": "BCe6WLblaLGH"
      },
      "id": "BCe6WLblaLGH",
      "execution_count": null,
      "outputs": []
    },
    {
      "cell_type": "code",
      "source": [
        "from ragas import SingleTurnSample\n",
        "from ragas.metrics import BleuScore\n",
        "\n",
        "test_data = {\n",
        "    \"user_input\": user_input,\n",
        "    \"response\": response,\n",
        "    \"reference\": reference\n",
        "}\n",
        "metric = BleuScore()\n",
        "test_data = SingleTurnSample(**test_data)\n",
        "metric.single_turn_score(test_data)"
      ],
      "metadata": {
        "id": "edPeIwc-aOsL"
      },
      "id": "edPeIwc-aOsL",
      "execution_count": null,
      "outputs": []
    },
    {
      "cell_type": "markdown",
      "source": [
        "### **2. Evaluate RAG-assisted LLM**"
      ],
      "metadata": {
        "id": "mN7IpMExaQkM"
      },
      "id": "mN7IpMExaQkM"
    },
    {
      "cell_type": "code",
      "source": [
        "import numpy as np\n",
        "\n",
        "class RAG:\n",
        "    def __init__(self, llm_model, embedding_model):\n",
        "        # self.llm = ChatGoogleGenerativeAI(model=llm_model)\n",
        "        # self.embeddings = GoogleGenerativeAIEmbeddings(model=embedding_model)\n",
        "        self.llm = ChatOpenAI(model=llm_model)\n",
        "        self.embeddings = OpenAIEmbeddings(model=embedding_model)\n",
        "        self.doc_embeddings = None\n",
        "        self.docs = None\n",
        "\n",
        "    def load_documents(self, documents):\n",
        "        \"\"\"Load documents and compute their embeddings.\"\"\"\n",
        "        self.docs = documents\n",
        "        self.doc_embeddings = self.embeddings.embed_documents(documents)\n",
        "\n",
        "    def get_most_relevant_docs(self, query):\n",
        "        \"\"\"Find the most relevant document for a given query.\"\"\"\n",
        "        if not self.docs or not self.doc_embeddings:\n",
        "            raise ValueError(\"Documents and their embeddings are not loaded.\")\n",
        "\n",
        "        query_embedding = self.embeddings.embed_query(query)\n",
        "        similarities = [\n",
        "            np.dot(query_embedding, doc_emb)\n",
        "            / (np.linalg.norm(query_embedding) * np.linalg.norm(doc_emb))\n",
        "            for doc_emb in self.doc_embeddings\n",
        "        ]\n",
        "        most_relevant_doc_index = np.argmax(similarities)\n",
        "        return [self.docs[most_relevant_doc_index]]\n",
        "\n",
        "    def generate_answer(self, query, relevant_doc):\n",
        "        \"\"\"Generate an answer for a given query based on the most relevant document.\"\"\"\n",
        "        prompt = f\"question: {query}\\n\\nDocuments: {relevant_doc}\"\n",
        "        messages = [\n",
        "            (\"system\", \"You are a helpful assistant that answers questions based on given documents only.\"),\n",
        "            (\"human\", prompt),\n",
        "        ]\n",
        "        ai_msg = self.llm.invoke(messages)\n",
        "        return ai_msg.content"
      ],
      "metadata": {
        "id": "DdGymY9iaROf"
      },
      "id": "DdGymY9iaROf",
      "execution_count": null,
      "outputs": []
    },
    {
      "cell_type": "code",
      "source": [
        "# create the list of web contents to be used for RAG pipeline\n",
        "web_paths = [\"https://www.ibm.com/think/topics/hpc\",\n",
        "             \"https://www.geeksforgeeks.org/computer-organization-architecture/high-performance-computing/\"]\n",
        "\n",
        "# Load documents using LangChain WebBaseLoader\n",
        "documents = []\n",
        "\n",
        "# Read the text content from the file\n",
        "for url in web_paths:\n",
        "    try:\n",
        "        # Load and chunk contents of the blog\n",
        "        loader = WebBaseLoader(url)\n",
        "        data = loader.load()\n",
        "        for doc in data:\n",
        "            # Add metadata to each document indicating its source\n",
        "            doc.metadata = {\"source\": url}\n",
        "            documents.append(doc)\n",
        "        print(f\"[✓] Loaded {url}\")\n",
        "    except Exception as e:\n",
        "        print(f\"[✗] Failed to load {url}: {e}\")\n",
        "\n",
        "for doc in documents:\n",
        "    doc.page_content = \" \".join(doc.page_content.split())  # remove white space\n",
        "\n",
        "text_splitter = RecursiveCharacterTextSplitter(chunk_size=1000, chunk_overlap=200)\n",
        "docs = text_splitter.split_documents(documents)\n",
        "chunked_docs = [doc.page_content for doc in docs]"
      ],
      "metadata": {
        "id": "UPMf7mcDaTIL"
      },
      "id": "UPMf7mcDaTIL",
      "execution_count": null,
      "outputs": []
    },
    {
      "cell_type": "code",
      "source": [
        "# llm_model = \"gemini-2.5-flash\"\n",
        "# embedding_model = \"models/gemini-embedding-001\"\n",
        "llm_model = \"gpt-4o\"\n",
        "embedding_model = \"text-embedding-3-small\"\n",
        "\n",
        "# Initialize RAG instance\n",
        "rag = RAG(llm_model, embedding_model)\n",
        "\n",
        "# Load documents\n",
        "rag.load_documents(chunked_docs)"
      ],
      "metadata": {
        "id": "tboAJGIMaWc7"
      },
      "id": "tboAJGIMaWc7",
      "execution_count": null,
      "outputs": []
    },
    {
      "cell_type": "code",
      "source": [
        "# Query and retrieve the most relevant document\n",
        "query = \"How do I submit a job to a supercomputer?\"\n",
        "relevant_doc = rag.get_most_relevant_docs(query)\n",
        "\n",
        "# Generate an answer\n",
        "answer = rag.generate_answer(query, relevant_doc)\n",
        "\n",
        "print(f\"Query: {query}\")\n",
        "print(f\"Relevant Document: {relevant_doc}\")\n",
        "print(f\"Answer: {answer}\")"
      ],
      "metadata": {
        "id": "1chhcimOaX0b"
      },
      "id": "1chhcimOaX0b",
      "execution_count": null,
      "outputs": []
    },
    {
      "cell_type": "markdown",
      "source": [
        "Collect and/or Load your Evaluation Data"
      ],
      "metadata": {
        "id": "X842-tC_aa8L"
      },
      "id": "X842-tC_aa8L"
    },
    {
      "cell_type": "code",
      "source": [
        "sample_batch = [\n",
        "  {\n",
        "    \"question\": \"What is High-Performance Computing (HPC)?\",\n",
        "    \"answer\": \"High-Performance Computing (HPC) refers to the use of parallel processing by networking multiple computers (often clustered) to achieve performance far beyond that of typical desktops. These systems enable efficient and fast execution of advanced applications, particularly those reaching teraflop-scale computing — a trillion floating-point operations per second.\"\n",
        "  },\n",
        "  {\n",
        "    \"question\": \"Why is HPC critically important?\",\n",
        "    \"answer\": \"HPC is important because it pushes scientific discovery, supports complex modeling (e.g., AI, climate modeling, nuclear physics), manages massive datasets in business analytics and IoT, and accelerates areas like drug discovery, 3D imaging, and genome sequencing.\"\n",
        "  },\n",
        "  {\n",
        "    \"question\": \"What are the primary needs that drive the adoption of HPC?\",\n",
        "    \"answer\": \"Organizations adopt HPC to reduce runtime for lengthy computations, meet tight deadlines by achieving high operations per second, and use parallel CPU and GPU resources efficiently through fast inter-node networks.\"\n",
        "  },\n",
        "  {\n",
        "    \"question\": \"How does an HPC system operate?\",\n",
        "    \"answer\": \"An HPC system operates with a scheduler that distributes jobs to compute clusters, where each node runs parts of the workload in parallel. Data storage provides fast I/O for computations. Synchronization across nodes, networking, and storage is critical to overall efficiency.\"\n",
        "  },\n",
        "  {\n",
        "    \"question\": \"What are the key challenges associated with HPC?\",\n",
        "    \"answer\": \"Challenges include high cost (hardware, software, energy, personnel), scalability issues, massive data management needs, complexity of parallel programming, software compatibility constraints, and significant power and cooling requirements.\"\n",
        "  }\n",
        "]"
      ],
      "metadata": {
        "id": "XL_i3J8MaZ_X"
      },
      "id": "XL_i3J8MaZ_X",
      "execution_count": null,
      "outputs": []
    },
    {
      "cell_type": "code",
      "source": [
        "dataset = []\n",
        "\n",
        "for pair in sample_batch:\n",
        "  query = pair[\"question\"]\n",
        "  reference = pair[\"answer\"]\n",
        "\n",
        "  relevant_docs = rag.get_most_relevant_docs(query)\n",
        "  response = rag.generate_answer(query, relevant_docs)\n",
        "  dataset.append(\n",
        "      {\n",
        "          \"user_input\":query,\n",
        "          \"retrieved_contexts\":relevant_docs,\n",
        "          \"response\":response,\n",
        "          \"reference\":reference\n",
        "      }\n",
        "  )"
      ],
      "metadata": {
        "id": "ipIMx4JCad37"
      },
      "id": "ipIMx4JCad37",
      "execution_count": null,
      "outputs": []
    },
    {
      "cell_type": "markdown",
      "source": [
        "Now, we can evaluate our RAG system on the collected dataset using a set of commonly used RAG evaluation metrics. You may choose any model as evaluator LLM for evaluation.\n",
        "\n",
        "### Generation-focused metrics:\n",
        "\n",
        "1. **faithfulness**:\n",
        "Measures how factual the generated answer is with respect to the provided contexts.\n",
        "It evaluates if the answer contains information that isn't present in or contradicts the retrieved contexts.\n",
        "\n",
        "2. **answer_relevancy**:\n",
        "Assesses how well the generated answer addresses the user's query, regardless of factuality.\n",
        "It measures if the answer is on-topic and responsive to what was asked.\n",
        "\n",
        "### Retieval-focused metrics:\n",
        "\n",
        "1. **context_relevance**:\n",
        "Evaluates how relevant the retrieved contexts are to the user's query.\n",
        "This metric helps determine if the retrieval component is returning useful information.\n",
        "\n",
        "2. **context_recall**:\n",
        "Measures how completely the retrieved contexts cover the information needed to answer the query.\n",
        "When ground truth is available, it assesses if all necessary information was retrieved.\n",
        "\n",
        "3. **context_precision**:\n",
        "Evaluates how focused and precise the retrieved contexts are.\n",
        "It measures whether the contexts contain mostly relevant information without excessive irrelevant content."
      ],
      "metadata": {
        "id": "VmGzt8bKagXD"
      },
      "id": "VmGzt8bKagXD"
    },
    {
      "cell_type": "code",
      "source": [
        "from ragas import EvaluationDataset\n",
        "evaluation_dataset = EvaluationDataset.from_list(dataset)"
      ],
      "metadata": {
        "id": "GSSa3opVajoz"
      },
      "id": "GSSa3opVajoz",
      "execution_count": null,
      "outputs": []
    },
    {
      "cell_type": "code",
      "source": [
        "from ragas import evaluate\n",
        "from ragas.llms import LangchainLLMWrapper\n",
        "from ragas.metrics import LLMContextRecall, Faithfulness, FactualCorrectness\n",
        "\n",
        "# Create an LLM model e.g., OpenAI GPT-4o or Google Gemini-2.5\n",
        "llm = ChatOpenAI(model=\"gpt-4o\")\n",
        "# llm = ChatGoogleGenerativeAI(model=\"gemini-2.5-flash\")\n",
        "\n",
        "evaluator_llm = LangchainLLMWrapper(llm)\n",
        "result = evaluate(dataset=evaluation_dataset,metrics=[LLMContextRecall(), Faithfulness(), FactualCorrectness()],llm=evaluator_llm)\n",
        "print(result)"
      ],
      "metadata": {
        "id": "qzD31_E4aj8J"
      },
      "id": "qzD31_E4aj8J",
      "execution_count": null,
      "outputs": []
    }
  ],
  "metadata": {
    "kernelspec": {
      "display_name": "Python 3 (ipykernel)",
      "language": "python",
      "name": "python3"
    },
    "language_info": {
      "codemirror_mode": {
        "name": "ipython",
        "version": 3
      },
      "file_extension": ".py",
      "mimetype": "text/x-python",
      "name": "python",
      "nbconvert_exporter": "python",
      "pygments_lexer": "ipython3",
      "version": "3.10.4"
    },
    "colab": {
      "provenance": []
    }
  },
  "nbformat": 4,
  "nbformat_minor": 5
}